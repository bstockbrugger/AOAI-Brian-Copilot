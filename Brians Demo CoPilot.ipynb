{
  "cells": [
    {
      "cell_type": "markdown",
      "source": [
        "# Brian's Copilot Demo notebook \r\n",
        "This notebook is to test out Azure OpenAI, GPT-3.5/GPT-4, ChatGPT and Chats and Completions for security operations.\r\n",
        "\r\n",
        "---\r\n",
        "\r\n",
        "## Pre-requisites\r\n",
        "- These are the pre-requisites to run this notebook\r\n",
        "- Import Python Library's - OpenAI, azure-identity and azure-keyvault-secrets\r\n",
        "- Python 3.8 notebook kernel (`Python 3.8 - Azure ML`)\r\n",
        "- Open Terminal\r\n",
        "-  Sign in using az login\r\n",
        "-  Need to run the \r\n",
        "      az account set --subscription \"insert your default subscription\"\r\n",
        "\r\n",
        "# Contents\r\n",
        "\r\n",
        "1. **Introduction**<br>\r\n",
        "   1.1 Install the prerequisites\r\n",
        "2. **Initializing the notebook and Brians Copilot Demo**<br>\r\n",
        "3. **Use Brian's Copilot Demo**<br>\r\n",
        "   3.1 Run the notebook\r\n",
        "4. **Advanced SecOps use cases**<br>\r\n",
        "   4.1 Coming Soon\r\n",
        "   4.2 Ideas:\r\n",
        "   Execute KQL query for recent High Security Incident's in Sentinel that can be investigated\r\n",
        "   Execute KQL query for Incident Owner of Notebook's logged in user ie: if Notebook in use by brian@blstech.info then KQL wuery would show results of Incidents assigned to Owner brian@blstech.info \r\n",
        "5. **Conclusion and Next Steps**<br>\r\n",
        "6. **Further Resources**<br>\r\n",
        "7. **FAQs - Frequently Asked Questions**"
      ],
      "metadata": {
        "nteract": {
          "transient": {
            "deleting": false
          }
        }
      }
    },
    {
      "cell_type": "code",
      "source": [
        "!pip install openai\r\n",
        "!pip install azure-identity\r\n",
        "!pip install azure-keyvault-secrets"
      ],
      "outputs": [],
      "execution_count": null,
      "metadata": {
        "jupyter": {
          "source_hidden": false,
          "outputs_hidden": false
        },
        "nteract": {
          "transient": {
            "deleting": false
          }
        },
        "gather": {
          "logged": 1686838225625
        }
      }
    },
    {
      "cell_type": "markdown",
      "source": [
        "Start here to run **Brian's Copilot Demo Prompt **"
      ],
      "metadata": {
        "nteract": {
          "transient": {
            "deleting": false
          }
        }
      }
    },
    {
      "cell_type": "code",
      "source": [
        "# Brian's Copilot Demo version 1.1.0\r\n",
        "from IPython.display import clear_output\r\n",
        "import os\r\n",
        "import openai\r\n",
        "import json\r\n",
        "\r\n",
        "from azure.identity import AzureCliCredential\r\n",
        "from azure.keyvault.secrets import SecretClient\r\n",
        "\r\n",
        "openai.api_type = \"azure\"\r\n",
        "openai.api_base = \"https://blstech-azureopenai.openai.azure.com/\" \r\n",
        "openai.api_version = \"2023-03-15-preview\"\r\n",
        "deployment_name = \"GPT35turbo\"\r\n",
        "\r\n",
        "# Create an instance of the AzureCliCredential class to authenticate with Azure - this is used in Azure Notebook\r\n",
        "credential = AzureCliCredential()\r\n",
        "\r\n",
        "# Set the name of your Key Vault and the name of your secret\r\n",
        "key_vault_name = \"blstech-kv1\"\r\n",
        "secret_name = \"AzureOpenAI-API\"\r\n",
        "\r\n",
        "# Create an instance of the SecretClient class to retrieve the secret\r\n",
        "secret_client = SecretClient(vault_url=f\"https://{key_vault_name}.vault.azure.net/\", credential=credential)\r\n",
        "\r\n",
        "# Retrieve the API key from Azure Key Vault\r\n",
        "api_key = secret_client.get_secret(secret_name).value\r\n",
        "openai.api_key = api_key\r\n",
        "\r\n",
        "def generate_response_and_store(user_input_array, response_array):\r\n",
        "    user_input = \"\\n\".join(user_input_array)\r\n",
        "    response = openai.ChatCompletion.create(\r\n",
        "        engine=deployment_name,\r\n",
        "        temperature=1.0,\r\n",
        "        max_tokens=400,\r\n",
        "        n=1,\r\n",
        "        stop=None,\r\n",
        "        messages=[\r\n",
        "            {\"role\": \"system\", \"content\": \"You are a helpful cybersecurity assistant specializing in Microsoft security, security operations, incident response, threat hunting and analytics.\"},\r\n",
        "            {\"role\": \"user\", \"content\": user_input},\r\n",
        "        ]\r\n",
        "    )\r\n",
        "    generated_text = response.choices[0]['message']['content']\r\n",
        "    response_array.append(generated_text)\r\n",
        "    return generated_text.strip()\r\n",
        "\r\n",
        "response_array = []\r\n",
        "user_input_array = []  # Create an empty array to store user input\r\n",
        "\r\n",
        "print('The completion is using GPT3.5 model in Azure OpenAI API service') \r\n",
        "while True:\r\n",
        "    print('Please enter an input prompt: (enter \"exit\" to quit)')\r\n",
        "    user_input = input()\r\n",
        "    if user_input == \"exit\":\r\n",
        "        break\r\n",
        "    user_input_array.append(user_input)  # Add user input to array\r\n",
        "\r\n",
        "    user_output = generate_response_and_store(user_input_array, response_array)\r\n",
        "    response_array.append(user_output)\r\n",
        "    print(user_input)\r\n",
        "    print(user_output)\r\n",
        "    \r\n",
        "    clear_output(wait=True)  # Clear the input prompt"
      ],
      "outputs": [
        {
          "output_type": "stream",
          "name": "stdout",
          "text": "Which reputable antivirus do you recommend\nGreat question! Here are the top 5 things you can do to protect your organization from ransomware:\n\n1. Backup your important data regularly: Make sure to backup all important files, documents, and data frequently. This will help you to quickly restore your data in case of a ransomware attack.\n\n2. Educate your employees: Train your employees about how to avoid phishing scams and fraudulent emails. They must understand that clicking on suspicious links or downloading attachments from unknown sources can lead to serious issues.\n\n3. Apply security patches: Ensure that all applications, operating systems, and software are up-to-date with the latest patches. This will minimize security vulnerabilities that can be exploited by ransomware.\n\n4. Deploy anti-virus software: Use an effective anti-virus software as an added layer of protection. The software should be updated regularly, and scans should be scheduled frequently.\n\n5. Implement access control measures: Limit user access and permissions to minimize potential damage in case of a ransomware attack.\n\nAs for reputable anti-virus software recommendations, Microsoft Defender and Norton are both excellent options to consider. However, it is always best to do your own research based on your specific organization's needs and budget.\nPlease enter an input prompt: (enter \"exit\" to quit)\n"
        }
      ],
      "execution_count": null,
      "metadata": {
        "jupyter": {
          "source_hidden": false,
          "outputs_hidden": false
        },
        "nteract": {
          "transient": {
            "deleting": false
          }
        },
        "gather": {
          "logged": 1686874016983
        }
      }
    },
    {
      "cell_type": "markdown",
      "source": [],
      "metadata": {
        "nteract": {
          "transient": {
            "deleting": false
          }
        }
      }
    }
  ],
  "metadata": {
    "kernelspec": {
      "name": "python38-azureml",
      "language": "python",
      "display_name": "Python 3.8 - AzureML"
    },
    "language_info": {
      "name": "python",
      "version": "3.8.5",
      "mimetype": "text/x-python",
      "codemirror_mode": {
        "name": "ipython",
        "version": 3
      },
      "pygments_lexer": "ipython3",
      "nbconvert_exporter": "python",
      "file_extension": ".py"
    },
    "microsoft": {
      "ms_spell_check": {
        "ms_spell_check_language": "en"
      },
      "host": {
        "AzureML": {
          "notebookHasBeenCompleted": true
        }
      }
    },
    "kernel_info": {
      "name": "python38-azureml"
    },
    "nteract": {
      "version": "nteract-front-end@1.0.0"
    }
  },
  "nbformat": 4,
  "nbformat_minor": 2
}